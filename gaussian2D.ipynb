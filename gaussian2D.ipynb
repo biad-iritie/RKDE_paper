{
 "cells": [
  {
   "cell_type": "markdown",
   "metadata": {},
   "source": [
    "# Draws Gaussian Distribution Graph (2D, 3D)"
   ]
  },
  {
   "cell_type": "code",
   "execution_count": 19,
   "metadata": {},
   "outputs": [
    {
     "name": "stdout",
     "output_type": "stream",
     "text": [
      "[[1. 0.]\n",
      " [0. 1.]]\n"
     ]
    },
    {
     "data": {
      "image/png": "[encoded data removed]",
      "text/plain": [
       "<Figure size 432x288 with 1 Axes>"
      ]
     },
     "metadata": {
      "needs_background": "light"
     },
     "output_type": "display_data"
    }
   ],
   "source": [
    "import numpy as np\n",
    "import matplotlib.pyplot as plt\n",
    "from scipy.stats import multivariate_normal\n",
    "from mpl_toolkits.mplot3d import Axes3D\n",
    "%matplotlib inline\n",
    "# Fonction to generate Gaussian distribution data\n",
    "def Gaussian_Distribution(N=2, S=1000, m=0, sigma=1):\n",
    "    '''\n",
    "    Parameters\n",
    "    ----------\n",
    "         N: dimension\n",
    "         s: number of samples\n",
    "         m: sample mean\n",
    "         sigma: sample variance\n",
    "    \n",
    "    Returns\n",
    "    -------\n",
    "         data shape(M, N), M samples of N-dimensional Gaussian distribution\n",
    "         Gaussian Gaussian distribution probability density function\n",
    "    '''\n",
    "    mean = np.zeros(N) + m  # Mean matrix, the mean of each dimension is m\n",
    "    #print(mean)\n",
    "    cov = np.eye(N) * sigma  # Covariance matrix, the variance of each dimension is sigma\n",
    "    print(cov)\n",
    "\n",
    "    # Generate N-dimensional Gaussian distribution data\n",
    "    data = np.random.multivariate_normal(mean, cov, S)\n",
    "    # N-dimensional data Gaussian distribution probability density function\n",
    "    Gaussian = multivariate_normal(mean=mean, cov=cov)\n",
    "    \n",
    "    return data, Gaussian\n",
    "# Binary Gaussian scatter plot\n",
    "'''Binary Gaussian scatter plot'''\n",
    "M = 100000\n",
    "data, _ = Gaussian_Distribution(N=2, M=M)\n",
    "#data = np.random.multivariate_normal([0.5,0.5], [[0.5,1],[1, 0.5]], 10000)\n",
    "x, y = data.T\n",
    "plt.scatter(x, y)\n",
    "plt.show()\n"
   ]
  },
  {
   "cell_type": "code",
   "execution_count": 2,
   "metadata": {},
   "outputs": [
    {
     "name": "stdout",
     "output_type": "stream",
     "text": [
      "[0.]\n"
     ]
    },
    {
     "data": {
      "image/png": "[encoded data removed]",
      "text/plain": [
       "<Figure size 432x288 with 1 Axes>"
      ]
     },
     "metadata": {
      "needs_background": "light"
     },
     "output_type": "display_data"
    }
   ],
   "source": [
    "# Unary Gaussian probability distribution chart (single variable)\n",
    "'''Monary Gaussian probability distribution map'''\n",
    "_, Gaussian = Gaussian_Distribution(N=1, M=M, sigma=0.1)\n",
    "\n",
    "x = np.linspace(-1,1,100000)\n",
    "# Calculate one-dimensional Gaussian probability\n",
    "y = Gaussian.pdf(x)\n",
    "plt.plot(x, y)\n",
    "plt.show()"
   ]
  },
  {
   "cell_type": "markdown",
   "metadata": {},
   "source": [
    "# Own Kernel Density Function\n"
   ]
  },
  {
   "cell_type": "code",
   "execution_count": 3,
   "metadata": {},
   "outputs": [
    {
     "data": {
      "text/plain": [
       "\" # Bivariate Gaussian probability distribution chart (bivariate)\\ndata, Gaussian = Gaussian_Distribution(N=2, M=M, sigma=0.1)\\n# Generate a two-dimensional grid plane\\nX, Y = np.meshgrid(np.linspace(-1,1,M), np.linspace(-1,1,M))\\n# Two-dimensional coordinate data\\nd = np.dstack([X,Y])\\n# Calculate the two-dimensional joint Gaussian probability\\nZ = Gaussian.pdf(d).reshape(M,M)\\n'''Binary Gaussian probability distribution map'''\\nfig = plt.figure(figsize=(6,4))\\nax = Axes3D(fig)\\nax.plot_surface(X, Y, Z, rstride=1, cstride=1, cmap='seismic', alpha=0.8)\\nax.set_xlabel('X')\\nax.set_ylabel('Y')\\nax.set_zlabel('Z')\\nplt.show() \""
      ]
     },
     "execution_count": 3,
     "metadata": {},
     "output_type": "execute_result"
    }
   ],
   "source": [
    "\"\"\" # Bivariate Gaussian probability distribution chart (bivariate)\n",
    "data, Gaussian = Gaussian_Distribution(N=2, M=M, sigma=0.1)\n",
    "# Generate a two-dimensional grid plane\n",
    "X, Y = np.meshgrid(np.linspace(-1,1,M), np.linspace(-1,1,M))\n",
    "# Two-dimensional coordinate data\n",
    "d = np.dstack([X,Y])\n",
    "# Calculate the two-dimensional joint Gaussian probability\n",
    "Z = Gaussian.pdf(d).reshape(M,M)\n",
    "'''Binary Gaussian probability distribution map'''\n",
    "fig = plt.figure(figsize=(6,4))\n",
    "ax = Axes3D(fig)\n",
    "ax.plot_surface(X, Y, Z, rstride=1, cstride=1, cmap='seismic', alpha=0.8)\n",
    "ax.set_xlabel('X')\n",
    "ax.set_ylabel('Y')\n",
    "ax.set_zlabel('Z')\n",
    "plt.show() \"\"\""
   ]
  },
  {
   "cell_type": "code",
   "execution_count": 4,
   "metadata": {},
   "outputs": [
    {
     "data": {
      "text/plain": [
       "'Bivariate Gaussian probability distribution map horizontal projection\\nplt.figure()\\nplt.xlabel(\"X\")\\nplt.ylabel(\"Y\")\\nx, y = data.T\\nplt.plot(x, y, \\'ko\\', alpha=0.3)\\nplt.contour(X, Y, Z,  alpha =1.0, zorder=10)\\nplt.show()'"
      ]
     },
     "execution_count": 4,
     "metadata": {},
     "output_type": "execute_result"
    }
   ],
   "source": [
    "# Horizontal projection of binary Gaussian probability distribution map\n",
    "'''Bivariate Gaussian probability distribution map horizontal projection\n",
    "plt.figure()\n",
    "plt.xlabel(\"X\")\n",
    "plt.ylabel(\"Y\")\n",
    "x, y = data.T\n",
    "plt.plot(x, y, 'ko', alpha=0.3)\n",
    "plt.contour(X, Y, Z,  alpha =1.0, zorder=10)\n",
    "plt.show()'''"
   ]
  }
 ],
 "metadata": {
  "kernelspec": {
   "display_name": "data_science",
   "language": "python",
   "name": "data_science"
  },
  "language_info": {
   "codemirror_mode": {
    "name": "ipython",
    "version": 3
   },
   "file_extension": ".py",
   "mimetype": "text/x-python",
   "name": "python",
   "nbconvert_exporter": "python",
   "pygments_lexer": "ipython3",
   "version": "3.7.10"
  }
 },
 "nbformat": 4,
 "nbformat_minor": 4
}
