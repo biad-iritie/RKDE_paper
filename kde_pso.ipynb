{
 "cells": [
  {
   "cell_type": "code",
   "execution_count": 17,
   "metadata": {},
   "outputs": [
    {
     "name": "stderr",
     "output_type": "stream",
     "text": [
      "2023-06-06 19:15:58,348 - pyswarms.single.global_best - INFO - Optimize for 2 iters with {'c1': 0.5, 'c2': 0.3, 'w': 0.9}\n",
      "pyswarms.single.global_best:   0%|          |0/2"
     ]
    },
    {
     "name": "stdout",
     "output_type": "stream",
     "text": [
      "[[0.3636296  0.97178208]\n",
      " [0.96244729 0.2517823 ]]\n",
      "\n",
      "\n",
      "Compute ucv bandwiths: [[0.3636296  0.97178208]\n",
      " [0.96244729 0.2517823 ]]\n"
     ]
    },
    {
     "name": "stderr",
     "output_type": "stream",
     "text": [
      "pyswarms.single.global_best:  50%|█████     |1/2, best_cost=-72.5"
     ]
    },
    {
     "name": "stdout",
     "output_type": "stream",
     "text": [
      "Compute ucv final result: -72.46408860736783\n",
      "The UCV METRIC : -72.46408860736783\n",
      "[[0.81115326 0.24257256]\n",
      " [0.19277406 0.39070231]]\n",
      "\n",
      "\n",
      "Compute ucv bandwiths: [[0.81115326 0.24257256]\n",
      " [0.19277406 0.39070231]]\n"
     ]
    },
    {
     "name": "stderr",
     "output_type": "stream",
     "text": [
      "pyswarms.single.global_best: 100%|██████████|2/2, best_cost=-297 \n",
      "2023-06-06 19:15:58,876 - pyswarms.single.global_best - INFO - Optimization finished | best cost: -297.1411622712238, best pos: [0.81115326 0.24257256]\n"
     ]
    },
    {
     "name": "stdout",
     "output_type": "stream",
     "text": [
      "Compute ucv final result: -297.1411622712238\n",
      "The UCV METRIC : -297.1411622712238\n",
      "\n",
      "\n",
      "Best bandwidth: 0.811153257682441\n",
      "Best bandwidth: 0.24257256155605345\n",
      "Best UCV value: -297.1411622712238\n"
     ]
    }
   ],
   "source": [
    "import numpy as np\n",
    "from scipy.stats import norm\n",
    "import pyswarms as ps\n",
    "from sklearn.neighbors import KernelDensity\n",
    "from sklearn.model_selection import GridSearchCV\n",
    "\n",
    "def KernelDensityEstimator(data, bandwidth):\n",
    "    kde = KernelDensity(bandwidth=bandwidth).fit(data[:, np.newaxis])\n",
    "    return kde\n",
    "\n",
    "\"\"\" def compute_ucv(kde_estimate, data):\n",
    "    n = len(data)\n",
    "    #operande1 = 1 / (2*np.sqrt(np.pi)* )\n",
    "    log_likelihood = np.sum(kde_estimate)\n",
    "    ucv = -2 * log_likelihood + (2 / n)\n",
    "    return ucv  \"\"\"\n",
    "def delta(X1,X2,h):\n",
    "    return ((X1-X2) / h)**2\n",
    "\n",
    "def compute_ucv(bandwidths,data):\n",
    "    print(\"Compute ucv bandwiths: \"+ str(bandwidths))\n",
    "    n = len(data)\n",
    "    d = len(bandwidths)\n",
    "    prod_bandwiths = np.prod(bandwidths)\n",
    "    operande1 = 1/ (2* np.sqrt(np.pi)**(d) * n**(2) * prod_bandwiths)\n",
    "    sum1 = []\n",
    "    for i in range(n):\n",
    "        sum2 = []\n",
    "        for j in range(n):\n",
    "            if j == i : continue\n",
    "            deltas = []\n",
    "            for k in range(d):\n",
    "                deltas.append((delta(data[i],data[j],bandwidths[k])))\n",
    "            sum_deltas = np.sum(deltas)\n",
    "            result = np.exp((-1/4)* sum_deltas) - ((2 * 2**(d/2)) * np.exp((-1/2)* sum_deltas))\n",
    "            sum2.append(result)\n",
    "        sum1.append(np.sum(sum2))\n",
    "    operande2 =  1/ (2* np.sqrt(np.pi)**(d) * n * prod_bandwiths) * np.sum(sum1)\n",
    "\n",
    "    final_result = operande1 + operande2\n",
    "    print(\"Compute ucv final result: \"+str(final_result))\n",
    "\n",
    "    return final_result\n",
    "\n",
    "\n",
    "\n",
    "\n",
    "\n",
    "# Define the objective function to be optimized\n",
    "def objective_function(position, data):\n",
    "    print(position)\n",
    "    print(\"\\n\")\n",
    "    ucv = compute_ucv(position, data)  # Compute UCV metric\n",
    "    print(\"The UCV METRIC : {}\".format(ucv))\n",
    "    return ucv\n",
    "    \n",
    "\n",
    "# Define the bounds for the bandwidth parameter\n",
    "lower_bound = 0 * np.ones(2)\n",
    "upper_bound = 1 * np.ones(2)\n",
    "bounds = (lower_bound, upper_bound)\n",
    "\n",
    "# Generate some synthetic data for demonstration\n",
    "np.random.seed(42)\n",
    "data = np.random.normal(loc=0, scale=1, size=100)\n",
    "\n",
    "\"\"\" # Define the initial best position and objective value\n",
    "initial_best_position = np.array([1.0])  # Initial bandwidth value\n",
    "initial_best_objective_value = objective_function(initial_best_position, data)\n",
    "\n",
    "# Set the best objective value as an attribute of the objective function\n",
    "objective_function.best_objective_value = initial_best_objective_value \"\"\"\n",
    "\n",
    "# Initialize the optimizer\n",
    "optimizer = ps.single.GlobalBestPSO(n_particles=2, dimensions=2, options={'c1': 0.5, 'c2': 0.3, 'w': 0.9},bounds=bounds)\n",
    "\n",
    "\n",
    "# Perform the optimization\n",
    "best_objective_value , best_positions  = optimizer.optimize(objective_function, iters=2, data=data)\n",
    "print(\"\\n\")\n",
    "for best_position in best_positions :\n",
    "    print(\"Best bandwidth:\", best_position)\n",
    "print(\"Best UCV value:\", best_objective_value)"
   ]
  }
 ],
 "metadata": {
  "kernelspec": {
   "display_name": "Python 3.9.13 ('data_science')",
   "language": "python",
   "name": "python3"
  },
  "language_info": {
   "codemirror_mode": {
    "name": "ipython",
    "version": 3
   },
   "file_extension": ".py",
   "mimetype": "text/x-python",
   "name": "python",
   "nbconvert_exporter": "python",
   "pygments_lexer": "ipython3",
   "version": "3.9.13"
  },
  "orig_nbformat": 4,
  "vscode": {
   "interpreter": {
    "hash": "643985f69f89cfee59ccb9ceb257d9cb58c13bdd97c74d508c0964730dccc282"
   }
  }
 },
 "nbformat": 4,
 "nbformat_minor": 2
}
